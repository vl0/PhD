{
 "cells": [
  {
   "cell_type": "code",
   "execution_count": null,
   "id": "6879a9bc",
   "metadata": {},
   "outputs": [],
   "source": [
    "### Visualisation of Dynamic growth Analyiss"
   ]
  },
  {
   "cell_type": "code",
   "execution_count": null,
   "id": "99076f23",
   "metadata": {},
   "outputs": [],
   "source": [
    "%matplotlib\n",
    "import matplotlib.pyplot as plt\n",
    "import seaborn as sns\n",
    "import numpy as np\n",
    "import math\n",
    "import pickle\n",
    "sns.set_palette(\"pastel\")"
   ]
  },
  {
   "cell_type": "code",
   "execution_count": null,
   "id": "96f09858",
   "metadata": {},
   "outputs": [],
   "source": [
    "with open('.pkl', 'rb') as f:\n",
    "    list1 = pickle.load(f)"
   ]
  },
  {
   "cell_type": "code",
   "execution_count": null,
   "id": "37641fed",
   "metadata": {},
   "outputs": [],
   "source": [
    "#vizualizacija dynamic growth analysis\n",
    "plt.xlabel('Cumulative number of patents', fontsize=20, color = 'royalblue')\n",
    "plt.ylabel('\\u03B4', fontsize=20, color = 'royalblue')\n",
    "\n",
    "#custom ticks\n",
    "#https://www.python-graph-gallery.com/191-custom-axis-on-matplotlib-chart\n",
    "plt.tick_params(axis='both',\n",
    "               which='both',\n",
    "               bottom=True,\n",
    "               top=False,\n",
    "               labelbottom=True,\n",
    "               right=True,\n",
    "               left=True,\n",
    "               labelleft=True\n",
    "               )\n",
    "\n",
    "plt.xticks(fontsize=20)\n",
    "plt.yticks(fontsize=20)\n",
    "\n",
    "\n",
    "#fig, ax =plt.subplots(1,1)\n",
    "\n",
    "plt.plot(list1, color=\"royalblue\", linewidth=4, alpha=0.7)"
   ]
  },
  {
   "cell_type": "code",
   "execution_count": null,
   "id": "6b335abd",
   "metadata": {},
   "outputs": [],
   "source": [
    "#Dynamic growth analyisis overlap with TLC results - neuromorphic hardware\n",
    "\n",
    "plt.xlabel('Cumulative number of patents', fontsize=20, color = 'royalblue')\n",
    "plt.ylabel('\\u03B4', fontsize=20, color = 'royalblue')\n",
    "\n",
    "#custom ticks\n",
    "#https://www.python-graph-gallery.com/191-custom-axis-on-matplotlib-chart\n",
    "plt.tick_params(axis='both',\n",
    "               which='both',\n",
    "               bottom=True,\n",
    "               top=False,\n",
    "               labelbottom=True,\n",
    "               right=True,\n",
    "               left=True,\n",
    "               labelleft=True\n",
    "               )\n",
    "\n",
    "plt.xticks(fontsize=20)\n",
    "plt.yticks(fontsize=20)\n",
    "\n",
    "#vertical line\n",
    "plt.vlines(x=300,ymin=-8100, ymax=600, colors=\"red\", linestyle=\"solid\", label='', alpha=0.3,linewidth=4)\n",
    "\n",
    "\n",
    "#Annotation\n",
    "plt.text(280, 700, \"2017\", fontsize=17)\n",
    "\n",
    "#Show graph\n",
    "plt.plot(list1, color=\"royalblue\", linewidth=4, alpha=0.7)"
   ]
  },
  {
   "cell_type": "code",
   "execution_count": null,
   "id": "9462c423",
   "metadata": {},
   "outputs": [],
   "source": [
    "#Dynamic growth analyisis overlap with TLC results - car headlights\n",
    "\n",
    "plt.xlabel('Cumulative number of patents', fontsize=20, color = 'royalblue')\n",
    "plt.ylabel('\\u03B4', fontsize=20, color = 'royalblue')\n",
    "\n",
    "#custom ticks\n",
    "#https://www.python-graph-gallery.com/191-custom-axis-on-matplotlib-chart\n",
    "plt.tick_params(axis='both',\n",
    "               which='both',\n",
    "               bottom=True,\n",
    "               top=False,\n",
    "               labelbottom=True,\n",
    "               right=True,\n",
    "               left=True,\n",
    "               labelleft=True\n",
    "               )\n",
    "\n",
    "plt.xticks(fontsize=20)\n",
    "plt.yticks(fontsize=20)\n",
    "\n",
    "\n",
    "\n",
    "#Annotation\n",
    "plt.text(280, 700, \"2017\", fontsize=17)\n",
    "\n",
    "#Show graph\n",
    "plt.plot(list1, color=\"royalblue\", linewidth=4, alpha=0.7)"
   ]
  },
  {
   "cell_type": "code",
   "execution_count": null,
   "id": "1cd7f9af",
   "metadata": {},
   "outputs": [],
   "source": []
  }
 ],
 "metadata": {
  "kernelspec": {
   "display_name": "Python 3 (ipykernel)",
   "language": "python",
   "name": "python3"
  },
  "language_info": {
   "codemirror_mode": {
    "name": "ipython",
    "version": 3
   },
   "file_extension": ".py",
   "mimetype": "text/x-python",
   "name": "python",
   "nbconvert_exporter": "python",
   "pygments_lexer": "ipython3",
   "version": "3.9.13"
  }
 },
 "nbformat": 4,
 "nbformat_minor": 5
}
