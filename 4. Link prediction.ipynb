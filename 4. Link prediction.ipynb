{
 "cells": [
  {
   "cell_type": "code",
   "execution_count": null,
   "metadata": {},
   "outputs": [],
   "source": [
    "# Applies link prediction algo to network"
   ]
  },
  {
   "cell_type": "code",
   "execution_count": null,
   "metadata": {
    "ExecuteTime": {
     "end_time": "2019-08-09T17:05:56.650655Z",
     "start_time": "2019-08-09T17:05:51.560067Z"
    }
   },
   "outputs": [],
   "source": [
    "import csv\n",
    "import pandas as pd\n",
    "import networkx as nx\n"
   ]
  },
  {
   "cell_type": "code",
   "execution_count": null,
   "metadata": {
    "ExecuteTime": {
     "end_time": "2019-08-09T17:05:58.145667Z",
     "start_time": "2019-08-09T17:05:58.142668Z"
    }
   },
   "outputs": [],
   "source": [
    "# url of edge list in .csv\n",
    "url=\"\""
   ]
  },
  {
   "cell_type": "code",
   "execution_count": null,
   "metadata": {
    "ExecuteTime": {
     "end_time": "2019-08-09T17:06:18.959644Z",
     "start_time": "2019-08-09T17:05:59.072049Z"
    }
   },
   "outputs": [],
   "source": [
    "#ucitavanje dataseta za link predikciju\n",
    "G=nx.read_edgelist(url, delimiter=',') #sometimes throws erro; convert edge list again (previous notebook)\n",
    "print(nx.info(G))\n"
   ]
  },
  {
   "cell_type": "code",
   "execution_count": null,
   "metadata": {
    "ExecuteTime": {
     "end_time": "2019-08-09T17:17:50.733153Z",
     "start_time": "2019-08-09T17:06:36.495808Z"
    }
   },
   "outputs": [],
   "source": [
    "# LINK PREDICTION ALGORITHMS - preferential_attachment\n",
    "preds_pref = nx.preferential_attachment(G)\n",
    "pref = list(preds_pref)\n"
   ]
  },
  {
   "cell_type": "code",
   "execution_count": null,
   "metadata": {},
   "outputs": [],
   "source": [
    "#LINK PREDICTION ALGORITHMS - jaccard_coefficient\n",
    "%timeit\n",
    "preds_jacc=nx.jaccard_coefficient(G)\n",
    "pref=list(preds_jacc)"
   ]
  },
  {
   "cell_type": "code",
   "execution_count": null,
   "metadata": {},
   "outputs": [],
   "source": [
    "#LINK PREDICTION ALGORITHMS - resource_allocation_index\n",
    "preds_rai=nx.resource_allocation_index(G)\n",
    "pref=list(preds_rai)"
   ]
  },
  {
   "cell_type": "code",
   "execution_count": null,
   "metadata": {},
   "outputs": [],
   "source": [
    "#LINK PREDICTION ALGORITHMS - adamic_adar_index\n",
    "preds_adamic=nx.adamic_adar_index(G)\n",
    "pref=list(preds_adamic)"
   ]
  },
  {
   "cell_type": "code",
   "execution_count": null,
   "metadata": {
    "ExecuteTime": {
     "end_time": "2019-08-09T16:11:12.401472Z",
     "start_time": "2019-08-09T16:11:12.385854Z"
    }
   },
   "outputs": [],
   "source": [
    "pref"
   ]
  },
  {
   "cell_type": "code",
   "execution_count": null,
   "metadata": {},
   "outputs": [],
   "source": [
    "# write to csv - saves memmory \n",
    "with open(\"headlights_4000-9000_pref.csv\", \"w\") as f:\n",
    "    writer = csv.writer(f)\n",
    "    writer.writerows(pref)"
   ]
  },
  {
   "cell_type": "code",
   "execution_count": null,
   "metadata": {
    "ExecuteTime": {
     "end_time": "2019-08-09T16:00:48.393417Z",
     "start_time": "2019-08-09T16:00:48.384417Z"
    }
   },
   "outputs": [],
   "source": [
    "# VERIFICATION\n",
    "# read results in chunks\n",
    "# reads csv and coverts to dataframe\n",
    "# necessary for filtering results\n",
    "\n",
    "url_r = \"\"\n",
    "chunksize = 100000\n",
    "chunks = []\n",
    "counter=0\n",
    "for chunk in pd.read_csv(url_r, delimiter=',', chunksize=chunksize, header=0, names=['patent1', 'patent2', 'weight'], low_memory=False):\n",
    "    chunks.append(chunk)\n",
    "    counter+=1\n",
    "    print(counter)\n",
    "df = pd.concat(chunks, axis=0)\n"
   ]
  },
  {
   "cell_type": "code",
   "execution_count": null,
   "metadata": {},
   "outputs": [],
   "source": [
    "df.max()"
   ]
  },
  {
   "cell_type": "code",
   "execution_count": null,
   "metadata": {},
   "outputs": [],
   "source": [
    "# Filtering of results\n",
    "pref_cleaned = df[df.weight >12.3]\n",
    "pref_cleaned.info()"
   ]
  },
  {
   "cell_type": "code",
   "execution_count": null,
   "metadata": {},
   "outputs": [],
   "source": [
    "# creating of a new datasets with cleaned results\n",
    "pref_cleaned.to_csv('headlights_7000-9000_ADAMIC_cleaned.csv')"
   ]
  },
  {
   "cell_type": "code",
   "execution_count": null,
   "metadata": {},
   "outputs": [],
   "source": [
    "#--------------------------------------------------------------------------------------------------"
   ]
  },
  {
   "cell_type": "code",
   "execution_count": null,
   "metadata": {},
   "outputs": [],
   "source": [
    "# reading a csv with cleaned results\n",
    "#url_rez =\"\"\n",
    "pref_cleaned = pd.read_csv(url_rez, index_col=0)\n",
    "pref_cleaned"
   ]
  },
  {
   "cell_type": "code",
   "execution_count": null,
   "metadata": {},
   "outputs": [],
   "source": [
    "pref_cleaned.max()"
   ]
  },
  {
   "cell_type": "code",
   "execution_count": null,
   "metadata": {},
   "outputs": [],
   "source": [
    "# Verification dataset - > converts to graph\n",
    "url_v=\"\"\n",
    "G_full = nx.read_edgelist(url_v, delimiter=',')"
   ]
  },
  {
   "cell_type": "code",
   "execution_count": null,
   "metadata": {},
   "outputs": [],
   "source": [
    "pref_cleaned1 = pref_cleaned[pref_cleaned.weight > 0.68]\n",
    "pref_cleaned1.info()"
   ]
  },
  {
   "cell_type": "code",
   "execution_count": null,
   "metadata": {},
   "outputs": [],
   "source": [
    "G_full_list=list(G_full)"
   ]
  },
  {
   "cell_type": "code",
   "execution_count": null,
   "metadata": {},
   "outputs": [],
   "source": [
    "# Creating a graph of predicted links\n",
    "# comparing that graph to the graph containing the entire dataset\n",
    "# prev_v = edge set w deleted weights\n",
    "# G = graf from the entire datasets\n",
    "true_list = []\n",
    "pref_v = pref_cleaned1.drop('weight', 1).values\n",
    "for i in range(0, len(pref_v)):\n",
    "    true_list.append(G_full.has_edge(*pref_v[i]))\n",
    "   \n",
    "true_list.count(True)  # number of correctly predicted edges\n"
   ]
  },
  {
   "cell_type": "code",
   "execution_count": null,
   "metadata": {},
   "outputs": [],
   "source": []
  },
  {
   "cell_type": "code",
   "execution_count": null,
   "metadata": {},
   "outputs": [],
   "source": []
  }
 ],
 "metadata": {
  "hide_input": false,
  "kernelspec": {
   "display_name": "Python 3 (ipykernel)",
   "language": "python",
   "name": "python3"
  },
  "language_info": {
   "codemirror_mode": {
    "name": "ipython",
    "version": 3
   },
   "file_extension": ".py",
   "mimetype": "text/x-python",
   "name": "python",
   "nbconvert_exporter": "python",
   "pygments_lexer": "ipython3",
   "version": "3.9.13"
  },
  "toc": {
   "base_numbering": 1,
   "nav_menu": {},
   "number_sections": true,
   "sideBar": true,
   "skip_h1_title": false,
   "title_cell": "Table of Contents",
   "title_sidebar": "Contents",
   "toc_cell": false,
   "toc_position": {},
   "toc_section_display": true,
   "toc_window_display": true
  },
  "varInspector": {
   "cols": {
    "lenName": 16,
    "lenType": 16,
    "lenVar": 40
   },
   "kernels_config": {
    "python": {
     "delete_cmd_postfix": "",
     "delete_cmd_prefix": "del ",
     "library": "var_list.py",
     "varRefreshCmd": "print(var_dic_list())"
    },
    "r": {
     "delete_cmd_postfix": ") ",
     "delete_cmd_prefix": "rm(",
     "library": "var_list.r",
     "varRefreshCmd": "cat(var_dic_list()) "
    }
   },
   "types_to_exclude": [
    "module",
    "function",
    "builtin_function_or_method",
    "instance",
    "_Feature"
   ],
   "window_display": false
  }
 },
 "nbformat": 4,
 "nbformat_minor": 2
}
