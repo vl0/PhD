{
 "cells": [
  {
   "cell_type": "code",
   "execution_count": null,
   "metadata": {
    "ExecuteTime": {
     "end_time": "2019-08-09T16:42:48.965746Z",
     "start_time": "2019-08-09T16:42:46.122181Z"
    }
   },
   "outputs": [],
   "source": [
    "#This network converts the patent citation network scraped from google into a format readeble by NetworkX\n",
    "import csv\n",
    "import pandas as pd\n",
    "import numpy as np\n",
    "import itertools as it"
   ]
  },
  {
   "cell_type": "code",
   "execution_count": null,
   "metadata": {
    "ExecuteTime": {
     "end_time": "2019-08-09T17:01:53.250121Z",
     "start_time": "2019-08-09T17:01:53.246109Z"
    }
   },
   "outputs": [],
   "source": [
    "url=\"\""
   ]
  },
  {
   "cell_type": "code",
   "execution_count": null,
   "metadata": {
    "ExecuteTime": {
     "end_time": "2019-08-09T17:02:15.313484Z",
     "start_time": "2019-08-09T17:02:10.018502Z"
    }
   },
   "outputs": [],
   "source": [
    "#Check delimiter \";\" or \",\"\n",
    "\n",
    "A= pd.read_csv(url,index_col=1, delimiter=',',\n",
    "               #skiprows=range(1,),\n",
    "               #nrowsskiprows=range(0,0),\n",
    "               low_memory=False,nrows=900 ) \n",
    "\n",
    "#A= pd.read_csv(url,index_col=1, delimiter=',',  low_memory=False) # use this line when you read the entire dataset\n",
    "A=A.drop(A.columns[0], axis=1)\n",
    "A=A.dropna(axis=1, how='all') #Deletes columns with no citations\n",
    "A=A.dropna(axis=0, how='all') #Deletes rows with no citations\n",
    "#A=A.fillna('nula')\n",
    "A"
   ]
  },
  {
   "cell_type": "code",
   "execution_count": null,
   "metadata": {
    "ExecuteTime": {
     "end_time": "2019-08-09T17:02:37.084001Z",
     "start_time": "2019-08-09T17:02:33.213217Z"
    }
   },
   "outputs": [],
   "source": [
    "n=1                             #set number of chunks chunkova\n",
    "list_A=[A[i:i+n].dropna(axis=1) for i in range(0, A.shape[0], n)]\n",
    "len(list_A)"
   ]
  },
  {
   "cell_type": "code",
   "execution_count": null,
   "metadata": {
    "ExecuteTime": {
     "end_time": "2019-08-09T16:57:24.764236Z",
     "start_time": "2019-08-09T16:57:24.748622Z"
    }
   },
   "outputs": [],
   "source": [
    "print(list_A[8])"
   ]
  },
  {
   "cell_type": "code",
   "execution_count": null,
   "metadata": {
    "ExecuteTime": {
     "end_time": "2019-08-09T17:03:02.518443Z",
     "start_time": "2019-08-09T17:03:02.416491Z"
    }
   },
   "outputs": [],
   "source": [
    "edge=[[] for _ in range(len(list_A))]"
   ]
  },
  {
   "cell_type": "code",
   "execution_count": null,
   "metadata": {
    "ExecuteTime": {
     "end_time": "2019-08-09T17:03:25.447452Z",
     "start_time": "2019-08-09T17:03:23.060668Z"
    }
   },
   "outputs": [],
   "source": [
    "for a in range(0,len(list_A)):\n",
    "    print(a)\n",
    "    for index, rows in list_A[a].iterrows():\n",
    "        for comb in (it.combinations(rows,2)):\n",
    "            edge[a].append(comb)  "
   ]
  },
  {
   "cell_type": "code",
   "execution_count": null,
   "metadata": {
    "ExecuteTime": {
     "end_time": "2019-08-09T17:03:50.715032Z",
     "start_time": "2019-08-09T17:03:49.714552Z"
    }
   },
   "outputs": [],
   "source": [
    "edge_spojeno=[j for i in edge for j in i]"
   ]
  },
  {
   "cell_type": "code",
   "execution_count": null,
   "metadata": {
    "ExecuteTime": {
     "end_time": "2019-08-09T17:04:15.762212Z",
     "start_time": "2019-08-09T17:04:14.130147Z"
    }
   },
   "outputs": [],
   "source": [
    "edge_pd=pd.DataFrame(edge_spojeno).dropna()\n",
    "edge_pd"
   ]
  },
  {
   "cell_type": "code",
   "execution_count": null,
   "metadata": {
    "ExecuteTime": {
     "end_time": "2019-08-09T17:04:51.128961Z",
     "start_time": "2019-08-09T17:04:37.053018Z"
    }
   },
   "outputs": [],
   "source": [
    "# save edge list\n",
    "edge_pd.to_csv(\".csv\", header=False, index=False)"
   ]
  },
  {
   "cell_type": "code",
   "execution_count": null,
   "metadata": {},
   "outputs": [],
   "source": []
  }
 ],
 "metadata": {
  "hide_input": false,
  "kernelspec": {
   "display_name": "Python 3 (ipykernel)",
   "language": "python",
   "name": "python3"
  },
  "language_info": {
   "codemirror_mode": {
    "name": "ipython",
    "version": 3
   },
   "file_extension": ".py",
   "mimetype": "text/x-python",
   "name": "python",
   "nbconvert_exporter": "python",
   "pygments_lexer": "ipython3",
   "version": "3.9.13"
  },
  "toc": {
   "base_numbering": 1,
   "nav_menu": {},
   "number_sections": true,
   "sideBar": true,
   "skip_h1_title": false,
   "title_cell": "Table of Contents",
   "title_sidebar": "Contents",
   "toc_cell": false,
   "toc_position": {},
   "toc_section_display": true,
   "toc_window_display": false
  },
  "varInspector": {
   "cols": {
    "lenName": 16,
    "lenType": 16,
    "lenVar": 40
   },
   "kernels_config": {
    "python": {
     "delete_cmd_postfix": "",
     "delete_cmd_prefix": "del ",
     "library": "var_list.py",
     "varRefreshCmd": "print(var_dic_list())"
    },
    "r": {
     "delete_cmd_postfix": ") ",
     "delete_cmd_prefix": "rm(",
     "library": "var_list.r",
     "varRefreshCmd": "cat(var_dic_list()) "
    }
   },
   "types_to_exclude": [
    "module",
    "function",
    "builtin_function_or_method",
    "instance",
    "_Feature"
   ],
   "window_display": false
  }
 },
 "nbformat": 4,
 "nbformat_minor": 2
}
