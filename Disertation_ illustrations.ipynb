{
 "cells": [
  {
   "cell_type": "code",
   "execution_count": 1,
   "id": "70f7e723",
   "metadata": {},
   "outputs": [
    {
     "name": "stdout",
     "output_type": "stream",
     "text": [
      "Using matplotlib backend: Qt5Agg\n"
     ]
    }
   ],
   "source": [
    "%matplotlib\n",
    "import matplotlib.pyplot as plt\n",
    "import seaborn as sns\n",
    "import numpy as np\n",
    "import math\n",
    "sns.set_palette(\"pastel\")\n"
   ]
  },
  {
   "cell_type": "code",
   "execution_count": 10,
   "id": "1ce37135",
   "metadata": {},
   "outputs": [],
   "source": [
    "# Pseudokodovi\n",
    "\n",
    "plt.tick_params(\n",
    "    axis='x',          # changes apply to the axis\n",
    "    which='both',      # both major and minor ticks are affected\n",
    "    bottom=False,      # ticks along the bottom edge are off\n",
    "    top=False,         # ticks along the top edge are off\n",
    "    labelbottom=False, # labels along the bottom edge are off\n",
    "    right=False,\n",
    "    left=False,\n",
    "    labelleft=False) \n"
   ]
  },
  {
   "cell_type": "code",
   "execution_count": 3,
   "id": "283b9419",
   "metadata": {},
   "outputs": [],
   "source": [
    "def sigmoid(x):\n",
    "    a = []\n",
    "    for item in x:\n",
    "        a.append(1/(1+math.exp(-item)))\n",
    "    return a"
   ]
  },
  {
   "cell_type": "code",
   "execution_count": 13,
   "id": "f03901de",
   "metadata": {},
   "outputs": [],
   "source": [
    "# TLC Analysis\n",
    "# https://www.vcalc.com/wiki/vCalc/Sigmoid+Function\n",
    "\n",
    "#1. Generalised TLC curve\n",
    "\n",
    "#data\n",
    "#values=np.cumsum(np.random.randn(1000,1))\n",
    "x = np.arange(-3.5, 3.5, 0.01)\n",
    "sig = sigmoid(x)\n",
    "\n",
    "#Custom Axis Title\n",
    "plt.xlabel('Cumulative R&D time', fontweight='bold', color = 'royalblue',\n",
    "           fontsize='20', horizontalalignment='left')\n",
    "plt.ylabel('Performance', fontweight='bold', color = 'royalblue', fontsize='20', horizontalalignment='center')\n",
    "\n",
    "#custom ticks\n",
    "#https://www.python-graph-gallery.com/191-custom-axis-on-matplotlib-chart\n",
    "plt.tick_params(axis='both',\n",
    "               which='both',\n",
    "               bottom=False,\n",
    "               top=False,\n",
    "               labelbottom=False,\n",
    "               right=False,\n",
    "               left=False,\n",
    "               labelleft=False)\n",
    "\n",
    "#vertical lines\n",
    "plt.vlines(x=150,ymin=0, ymax=0.1192, colors=\"royalblue\", linestyle=\"solid\", label='', alpha=0.3)\n",
    "plt.vlines(x=350,ymin=0, ymax=0.5, colors=\"royalblue\", linestyle=\"solid\", label='', alpha=0.3)\n",
    "plt.vlines(x=550,ymin=0, ymax=0.8808, colors=\"royalblue\", linestyle=\"solid\", label='', alpha=0.3)\n",
    "\n",
    "#annotation\n",
    "plt.text(30, 0.15, \"Emergence\", fontsize=17)\n",
    "plt.text(200, 0.3, \"Growth\", fontsize=17)\n",
    "plt.text(380, 0.75, \"Maturation\", fontsize=17)\n",
    "plt.text(600, 0.97, \"Stagnation\", fontsize=17)\n",
    "\n",
    "#plot style\n",
    "\n",
    "#show graph\n",
    "plt.plot(sig, color=\"royalblue\", linewidth=4, alpha=0.7)\n",
    "plt.show()\n",
    "\n"
   ]
  },
  {
   "cell_type": "code",
   "execution_count": 17,
   "id": "e301adfa",
   "metadata": {},
   "outputs": [],
   "source": [
    "#1. Life cycle stage and strategic relevance\n",
    "\n",
    "#data\n",
    "#values=np.cumsum(np.random.randn(1000,1))\n",
    "x = np.arange(-3.5, 3.5, 0.01)\n",
    "sig = sigmoid(x)\n",
    "\n",
    "#Custom Axis Title\n",
    "plt.xlabel('Time', fontweight='bold', color = 'royalblue',\n",
    "           fontsize='20', horizontalalignment='left')\n",
    "plt.ylabel('Exhaustion of competitive potential', fontweight='bold', color = 'royalblue', fontsize='20', horizontalalignment='center')\n",
    "\n",
    "#custom ticks\n",
    "#https://www.python-graph-gallery.com/191-custom-axis-on-matplotlib-chart\n",
    "plt.tick_params(axis='both',\n",
    "               which='both',\n",
    "               bottom=False,\n",
    "               top=False,\n",
    "               labelbottom=False,\n",
    "               right=False,\n",
    "               left=False,\n",
    "               labelleft=False)\n",
    "\n",
    "#vertical lines\n",
    "plt.vlines(x=150,ymin=0, ymax=1, colors=\"royalblue\", linestyle=\"solid\", label='', alpha=0.3)\n",
    "plt.vlines(x=350,ymin=0, ymax=1, colors=\"royalblue\", linestyle=\"solid\", label='', alpha=0.3)\n",
    "plt.vlines(x=550,ymin=0, ymax=1, colors=\"royalblue\", linestyle=\"solid\", label='', alpha=0.3)\n",
    "\n",
    "#annotation\n",
    "plt.text(30, 0.97, \"Emergence\", fontsize=17,color=\"royalblue\")\n",
    "plt.text(200, 0.97, \"Growth\", fontsize=17,color=\"royalblue\")\n",
    "plt.text(400, 0.97, \"Maturation\", fontsize=17,color=\"royalblue\")\n",
    "plt.text(600, 0.97, \"Stagnation\", fontsize=17,color=\"royalblue\")\n",
    "\n",
    "plt.annotate(\n",
    "    'pacing technologies', xy=(100,0.07586),\n",
    "    xytext=(10, .2),fontsize='17', arrowprops=dict(facecolor='black', shrink=0.05))\n",
    "\n",
    "plt.annotate(\n",
    "    'Key technologies', xy=(250, 0.26894), \n",
    "    xytext=(155, 0.4),fontsize='17', arrowprops=dict(facecolor='black', shrink=0.05))\n",
    "\n",
    "plt.annotate(\n",
    "    'Basic technologies', xy=(450, 0.73106), \n",
    "    xytext=(370, 0.8),fontsize='17', arrowprops=dict(facecolor='black', shrink=0.05))\n",
    "#plot style\n",
    "\n",
    "#show graph\n",
    "plt.plot(sig, color=\"royalblue\", linewidth=4, alpha=0.7)\n",
    "plt.show()\n"
   ]
  },
  {
   "cell_type": "code",
   "execution_count": null,
   "id": "f605f724",
   "metadata": {},
   "outputs": [],
   "source": []
  }
 ],
 "metadata": {
  "kernelspec": {
   "display_name": "Python 3 (ipykernel)",
   "language": "python",
   "name": "python3"
  },
  "language_info": {
   "codemirror_mode": {
    "name": "ipython",
    "version": 3
   },
   "file_extension": ".py",
   "mimetype": "text/x-python",
   "name": "python",
   "nbconvert_exporter": "python",
   "pygments_lexer": "ipython3",
   "version": "3.9.13"
  }
 },
 "nbformat": 4,
 "nbformat_minor": 5
}
